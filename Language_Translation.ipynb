{
  "nbformat": 4,
  "nbformat_minor": 0,
  "metadata": {
    "colab": {
      "name": "Language_Translation.ipynb",
      "provenance": [],
      "collapsed_sections": [],
      "include_colab_link": true
    },
    "kernelspec": {
      "name": "python3",
      "display_name": "Python 3"
    },
    "accelerator": "GPU"
  },
  "cells": [
    {
      "cell_type": "markdown",
      "metadata": {
        "id": "view-in-github",
        "colab_type": "text"
      },
      "source": [
        "<a href=\"https://colab.research.google.com/github/sathish19120/-Udacity-self-driving-car-dataset-with-realtime-object-detection-using-YOLO.-/blob/master/Language_Translation.ipynb\" target=\"_parent\"><img src=\"https://colab.research.google.com/assets/colab-badge.svg\" alt=\"Open In Colab\"/></a>"
      ]
    },
    {
      "cell_type": "markdown",
      "metadata": {
        "id": "Ws_zPhZLpls4",
        "colab_type": "text"
      },
      "source": [
        "# Neural Machine Translation (NMT)\n",
        "We do build a German-English translation model. It is based on language translation pairs provided\n",
        "here: http://www.manythings.org/anki/.\n",
        "For German-English there are 195.847 language translation pairs available.\n",
        "\n",
        "We implement a sequence to sequence (seq2seq) model, in particular an encoder-decoder model with attention (Bahdanau attention for the encoder). \n",
        "\n",
        "You will be able to input a German sentence, and return the English translation.\n",
        "\n",
        "In addition, an attention plot is provided that shows which parts of the input sentence has the model's attention while translating.\n"
      ]
    },
    {
      "cell_type": "code",
      "metadata": {
        "id": "8UQCHMZwperD",
        "colab_type": "code",
        "colab": {}
      },
      "source": [
        "#Import the latest version of Tensorflow (GPU processing)\n",
        "from __future__ import absolute_import, division, print_function, unicode_literals\n",
        "\n",
        "!pip install -q tensorflow-gpu==2.0.0-beta1\n",
        "import tensorflow as tf\n",
        "\n",
        "import matplotlib.pyplot as plt\n",
        "import matplotlib.ticker as ticker\n",
        "from sklearn.model_selection import train_test_split\n",
        "\n",
        "import unicodedata\n",
        "import re\n",
        "import numpy as np\n",
        "import os\n",
        "import io\n",
        "import time"
      ],
      "execution_count": 0,
      "outputs": []
    },
    {
      "cell_type": "code",
      "metadata": {
        "id": "ANdfvt9HyK8p",
        "colab_type": "code",
        "outputId": "f57ba481-5668-4a66-b824-16adb08d4878",
        "colab": {
          "base_uri": "https://localhost:8080/",
          "height": 255
        }
      },
      "source": [
        "#Load the data of language tranlation pairs.\n",
        "!wget http://www.manythings.org/anki/deu-eng.zip\n",
        "!unzip deu-eng.zip"
      ],
      "execution_count": 0,
      "outputs": [
        {
          "output_type": "stream",
          "text": [
            "--2019-08-09 19:42:01--  http://www.manythings.org/anki/deu-eng.zip\n",
            "Resolving www.manythings.org (www.manythings.org)... 104.24.108.196, 104.24.109.196, 2606:4700:30::6818:6cc4, ...\n",
            "Connecting to www.manythings.org (www.manythings.org)|104.24.108.196|:80... connected.\n",
            "HTTP request sent, awaiting response... 200 OK\n",
            "Length: 4541707 (4.3M) [application/zip]\n",
            "Saving to: ‘deu-eng.zip.1’\n",
            "\n",
            "\rdeu-eng.zip.1         0%[                    ]       0  --.-KB/s               \rdeu-eng.zip.1        19%[==>                 ] 874.51K  4.24MB/s               \rdeu-eng.zip.1       100%[===================>]   4.33M  15.5MB/s    in 0.3s    \n",
            "\n",
            "2019-08-09 19:42:02 (15.5 MB/s) - ‘deu-eng.zip.1’ saved [4541707/4541707]\n",
            "\n",
            "Archive:  deu-eng.zip\n",
            "replace deu.txt? [y]es, [n]o, [A]ll, [N]one, [r]ename: n\n",
            "replace _about.txt? [y]es, [n]o, [A]ll, [N]one, [r]ename: n\n"
          ],
          "name": "stdout"
        }
      ]
    },
    {
      "cell_type": "code",
      "metadata": {
        "id": "pjTcrboxPR7t",
        "colab_type": "code",
        "colab": {}
      },
      "source": [
        "#Converts the unicode file to ascii\n",
        "def unicode_to_ascii(s):\n",
        "    return ''.join(c for c in unicodedata.normalize('NFD', s)\n",
        "        if unicodedata.category(c) != 'Mn')\n",
        "\n",
        "#Prepare the data\n",
        "#1. Creating a space between a word and the punctuation\n",
        "#2. Clean the sentences by removing special characters.\n",
        "#3. Add a start and end token to each sentence.\n",
        "\n",
        "def preprocess_sentence(w):\n",
        "    w = unicode_to_ascii(w.lower().strip())\n",
        "\n",
        "    #1. Creating a space between a word and the punctuation following it\n",
        "    # eg: \"he is a boy.\" => \"he is a boy .\"\n",
        "    # Reference:- https://stackoverflow.com/questions/3645931/python-padding-punctuation-with-white-spaces-keeping-punctuation\n",
        "    w = re.sub(r\"([?.!,¿])\", r\" \\1 \", w)\n",
        "    w = re.sub(r'[\" \"]+', \" \", w)\n",
        "\n",
        "    #2. Replacing everything with space except (a-z, A-Z, \".\", \"?\", \"!\", \",\")\n",
        "    w = re.sub(r\"[^a-zA-Z?.!,¿]+\", \" \", w)\n",
        "\n",
        "    w = w.rstrip().strip()\n",
        "\n",
        "    #3. Adding a start and an end token to the sentence\n",
        "    # so that the model know when to start and stop predicting.\n",
        "    w = '<start> ' + w + ' <end>'\n",
        "    return w"
      ],
      "execution_count": 0,
      "outputs": []
    },
    {
      "cell_type": "code",
      "metadata": {
        "id": "ak59chrHPY7n",
        "colab_type": "code",
        "outputId": "6a09f60a-2958-42ee-8f17-342beb7d9c53",
        "colab": {
          "base_uri": "https://localhost:8080/",
          "height": 51
        }
      },
      "source": [
        "en_sentence = u\"May I borrow this book?\"\n",
        "de_sentence = u\"Kann ich das Buch ausleihen?\"\n",
        "print(preprocess_sentence(en_sentence))\n",
        "print(preprocess_sentence(de_sentence).encode('utf-8'))"
      ],
      "execution_count": 0,
      "outputs": [
        {
          "output_type": "stream",
          "text": [
            "<start> may i borrow this book ? <end>\n",
            "b'<start> kann ich das buch ausleihen ? <end>'\n"
          ],
          "name": "stdout"
        }
      ]
    },
    {
      "cell_type": "code",
      "metadata": {
        "id": "-rzOPkYvQ7nJ",
        "colab_type": "code",
        "colab": {}
      },
      "source": [
        "# 1. Remove the accents\n",
        "# 2. Clean the sentences\n",
        "# 3. Return word pairs in the format: [ENGLISH, GERMAN]\n",
        "def create_dataset(path, num_examples):\n",
        "    lines = io.open(path, encoding='UTF-8').read().strip().split('\\n')\n",
        "\n",
        "    word_pairs = [[preprocess_sentence(w) for w in l.split('\\t')]  for l in lines[:num_examples]]\n",
        "\n",
        "    return zip(*word_pairs)"
      ],
      "execution_count": 0,
      "outputs": []
    },
    {
      "cell_type": "code",
      "metadata": {
        "id": "m5pIW5i5RPZn",
        "colab_type": "code",
        "outputId": "1988d21a-e27c-494d-9fcf-49f9e36cee1c",
        "colab": {
          "base_uri": "https://localhost:8080/",
          "height": 71
        }
      },
      "source": [
        "en, de = create_dataset('deu.txt', None)\n",
        "\n",
        "#Show last language translation pair\n",
        "print(en[-1])\n",
        "print(de[-1])"
      ],
      "execution_count": 0,
      "outputs": [
        {
          "output_type": "stream",
          "text": [
            "<start> doubtless there exists in this world precisely the right woman for any given man to marry and vice versa but when you consider that a human being has the opportunity of being acquainted with only a few hundred people , and out of the few hundred that there are but a dozen or less whom he knows intimately , and out of the dozen , one or two friends at most , it will easily be seen , when we remember the number of millions who inhabit this world , that probably , since the earth was created , the right man has never yet met the right woman . <end>\n",
            "<start> ohne zweifel findet sich auf dieser welt zu jedem mann genau die richtige ehefrau und umgekehrt wenn man jedoch in betracht zieht , dass ein mensch nur gelegenheit hat , mit ein paar hundert anderen bekannt zu sein , von denen ihm nur ein dutzend oder weniger nahesteht , darunter hochstens ein oder zwei freunde , dann erahnt man eingedenk der millionen einwohner dieser welt leicht , dass seit erschaffung ebenderselben wohl noch nie der richtige mann der richtigen frau begegnet ist . <end>\n"
          ],
          "name": "stdout"
        }
      ]
    },
    {
      "cell_type": "code",
      "metadata": {
        "id": "wDLSO5sYRpsP",
        "colab_type": "code",
        "colab": {}
      },
      "source": [
        "#Pad each sentence to a maximum length\n",
        "#Identfy maximum length\n",
        "def max_length(tensor):\n",
        "    return max(len(t) for t in tensor)"
      ],
      "execution_count": 0,
      "outputs": []
    },
    {
      "cell_type": "code",
      "metadata": {
        "id": "ayXK_cQpR452",
        "colab_type": "code",
        "colab": {}
      },
      "source": [
        "#Create a word index and reverse word index (dictionaries mapping from word → id and id → word)\n",
        "def tokenize(lang):\n",
        "  lang_tokenizer = tf.keras.preprocessing.text.Tokenizer(\n",
        "      filters='')\n",
        "  lang_tokenizer.fit_on_texts(lang)\n",
        "\n",
        "  tensor = lang_tokenizer.texts_to_sequences(lang)\n",
        "\n",
        "  tensor = tf.keras.preprocessing.sequence.pad_sequences(tensor,\n",
        "                                                         padding='post')\n",
        "\n",
        "  return tensor, lang_tokenizer"
      ],
      "execution_count": 0,
      "outputs": []
    },
    {
      "cell_type": "code",
      "metadata": {
        "id": "K52RUERVSGHg",
        "colab_type": "code",
        "colab": {}
      },
      "source": [
        "#Create cleaned input, output pairs\n",
        "def load_dataset(path, num_examples=None):\n",
        "    targ_lang, inp_lang = create_dataset(path, num_examples)\n",
        "\n",
        "    input_tensor, inp_lang_tokenizer = tokenize(inp_lang)\n",
        "    target_tensor, targ_lang_tokenizer = tokenize(targ_lang)\n",
        "\n",
        "    return input_tensor, target_tensor, inp_lang_tokenizer, targ_lang_tokenizer"
      ],
      "execution_count": 0,
      "outputs": []
    },
    {
      "cell_type": "code",
      "metadata": {
        "id": "1bCYKJjeScPd",
        "colab_type": "code",
        "colab": {}
      },
      "source": [
        "#Limit the size of the dataset to experiment faster\n",
        "num_examples = 60000\n",
        "input_tensor, target_tensor, inp_lang, targ_lang = load_dataset('deu.txt', num_examples)\n",
        "\n",
        "#Calculate max_length of the target tensors\n",
        "max_length_targ, max_length_inp = max_length(target_tensor), max_length(input_tensor)"
      ],
      "execution_count": 0,
      "outputs": []
    },
    {
      "cell_type": "code",
      "metadata": {
        "id": "q0Eh3jd3S3hK",
        "colab_type": "code",
        "outputId": "0e873d93-23f2-454e-fced-21dd53c71204",
        "colab": {
          "base_uri": "https://localhost:8080/",
          "height": 34
        }
      },
      "source": [
        "#Creating training and test sets using an 80-20 split\n",
        "input_tensor_train, input_tensor_val, target_tensor_train, target_tensor_val = train_test_split(input_tensor, target_tensor, test_size=0.2)\n",
        "\n",
        "#Show length\n",
        "print(len(input_tensor_train), len(target_tensor_train), len(input_tensor_val), len(target_tensor_val))"
      ],
      "execution_count": 0,
      "outputs": [
        {
          "output_type": "stream",
          "text": [
            "48000 48000 12000 12000\n"
          ],
          "name": "stdout"
        }
      ]
    },
    {
      "cell_type": "code",
      "metadata": {
        "id": "KrHSmdW6S9DW",
        "colab_type": "code",
        "colab": {}
      },
      "source": [
        "#Show index to word mapping\n",
        "def convert(lang, tensor):\n",
        "  for t in tensor:\n",
        "    if t!=0:\n",
        "      print (\"%d ----> %s\" % (t, lang.index_word[t]))"
      ],
      "execution_count": 0,
      "outputs": []
    },
    {
      "cell_type": "code",
      "metadata": {
        "id": "RbOm0TidTE_q",
        "colab_type": "code",
        "outputId": "da85d760-2469-4ac4-bbdc-050571f0755f",
        "colab": {
          "base_uri": "https://localhost:8080/",
          "height": 323
        }
      },
      "source": [
        "#Show mapping for 1. training item\n",
        "print (\"Input Language; index to word mapping\")\n",
        "convert(inp_lang, input_tensor_train[0])\n",
        "print ()\n",
        "print (\"Target Language; index to word mapping\")\n",
        "convert(targ_lang, target_tensor_train[0])"
      ],
      "execution_count": 0,
      "outputs": [
        {
          "output_type": "stream",
          "text": [
            "Input Language; index to word mapping\n",
            "1 ----> <start>\n",
            "245 ----> morgen\n",
            "24 ----> bin\n",
            "5 ----> ich\n",
            "178 ----> beschaftigt\n",
            "3 ----> .\n",
            "2 ----> <end>\n",
            "\n",
            "Target Language; index to word mapping\n",
            "1 ----> <start>\n",
            "5 ----> i\n",
            "32 ----> ll\n",
            "37 ----> be\n",
            "139 ----> busy\n",
            "256 ----> tomorrow\n",
            "3 ----> .\n",
            "2 ----> <end>\n"
          ],
          "name": "stdout"
        }
      ]
    },
    {
      "cell_type": "code",
      "metadata": {
        "id": "lMHiquRMUiMp",
        "colab_type": "code",
        "colab": {}
      },
      "source": [
        "#Create a tf.data dataset\n",
        "BUFFER_SIZE = len(input_tensor_train)\n",
        "BATCH_SIZE = 64\n",
        "steps_per_epoch = len(input_tensor_train)//BATCH_SIZE\n",
        "embedding_dim = 256\n",
        "units = 1024\n",
        "vocab_inp_size = len(inp_lang.word_index)+1\n",
        "vocab_tar_size = len(targ_lang.word_index)+1\n",
        "\n",
        "dataset = tf.data.Dataset.from_tensor_slices((input_tensor_train, target_tensor_train)).shuffle(BUFFER_SIZE)\n",
        "dataset = dataset.batch(BATCH_SIZE, drop_remainder=True)"
      ],
      "execution_count": 0,
      "outputs": []
    },
    {
      "cell_type": "code",
      "metadata": {
        "id": "3K4CinruUx5G",
        "colab_type": "code",
        "outputId": "3b964e24-7a55-4d4a-91eb-9fd3f290188c",
        "colab": {
          "base_uri": "https://localhost:8080/",
          "height": 34
        }
      },
      "source": [
        "#Show shape of dataset\n",
        "example_input_batch, example_target_batch = next(iter(dataset))\n",
        "example_input_batch.shape, example_target_batch.shape"
      ],
      "execution_count": 0,
      "outputs": [
        {
          "output_type": "execute_result",
          "data": {
            "text/plain": [
              "(TensorShape([64, 22]), TensorShape([64, 12]))"
            ]
          },
          "metadata": {
            "tags": []
          },
          "execution_count": 47
        }
      ]
    },
    {
      "cell_type": "code",
      "metadata": {
        "id": "vHluMGKfVJFJ",
        "colab_type": "code",
        "colab": {}
      },
      "source": [
        "#Define the encoder\n",
        "class Encoder(tf.keras.Model):\n",
        "  def __init__(self, vocab_size, embedding_dim, enc_units, batch_sz):\n",
        "    super(Encoder, self).__init__()\n",
        "    self.batch_sz = batch_sz\n",
        "    self.enc_units = enc_units\n",
        "    self.embedding = tf.keras.layers.Embedding(vocab_size, embedding_dim)\n",
        "    self.gru = tf.keras.layers.GRU(self.enc_units,\n",
        "                                   return_sequences=True,\n",
        "                                   return_state=True,\n",
        "                                   recurrent_initializer='glorot_uniform')\n",
        "\n",
        "  def call(self, x, hidden):\n",
        "    x = self.embedding(x)\n",
        "    output, state = self.gru(x, initial_state = hidden)\n",
        "    return output, state\n",
        "\n",
        "  def initialize_hidden_state(self):\n",
        "    return tf.zeros((self.batch_sz, self.enc_units))"
      ],
      "execution_count": 0,
      "outputs": []
    },
    {
      "cell_type": "code",
      "metadata": {
        "id": "G3nvKRpGVPbF",
        "colab_type": "code",
        "outputId": "b2138b40-90c2-4306-c00e-64590519b9a8",
        "colab": {
          "base_uri": "https://localhost:8080/",
          "height": 51
        }
      },
      "source": [
        "encoder = Encoder(vocab_inp_size, embedding_dim, units, BATCH_SIZE)\n",
        "\n",
        "#Sample input\n",
        "sample_hidden = encoder.initialize_hidden_state()\n",
        "sample_output, sample_hidden = encoder(example_input_batch, sample_hidden)\n",
        "print ('Encoder output shape: (batch size, sequence length, units) {}'.format(sample_output.shape))\n",
        "print ('Encoder Hidden state shape: (batch size, units) {}'.format(sample_hidden.shape))"
      ],
      "execution_count": 0,
      "outputs": [
        {
          "output_type": "stream",
          "text": [
            "Encoder output shape: (batch size, sequence length, units) (64, 22, 1024)\n",
            "Encoder Hidden state shape: (batch size, units) (64, 1024)\n"
          ],
          "name": "stdout"
        }
      ]
    },
    {
      "cell_type": "code",
      "metadata": {
        "id": "O04YvRPYVYVl",
        "colab_type": "code",
        "colab": {}
      },
      "source": [
        "#Define Bahdanau attention\n",
        "class BahdanauAttention(tf.keras.Model):\n",
        "  def __init__(self, units):\n",
        "    super(BahdanauAttention, self).__init__()\n",
        "    self.W1 = tf.keras.layers.Dense(units)\n",
        "    self.W2 = tf.keras.layers.Dense(units)\n",
        "    self.V = tf.keras.layers.Dense(1)\n",
        "\n",
        "  def call(self, query, values):\n",
        "    # hidden shape == (batch_size, hidden size)\n",
        "    # hidden_with_time_axis shape == (batch_size, 1, hidden size)\n",
        "    # we are doing this to perform addition to calculate the score\n",
        "    hidden_with_time_axis = tf.expand_dims(query, 1)\n",
        "\n",
        "    # score shape == (batch_size, max_length, 1)\n",
        "    # we get 1 at the last axis because we are applying score to self.V\n",
        "    # the shape of the tensor before applying self.V is (batch_size, max_length, units)\n",
        "    score = self.V(tf.nn.tanh(\n",
        "        self.W1(values) + self.W2(hidden_with_time_axis)))\n",
        "\n",
        "    # attention_weights shape == (batch_size, max_length, 1)\n",
        "    attention_weights = tf.nn.softmax(score, axis=1)\n",
        "\n",
        "    # context_vector shape after sum == (batch_size, hidden_size)\n",
        "    context_vector = attention_weights * values\n",
        "    context_vector = tf.reduce_sum(context_vector, axis=1)\n",
        "\n",
        "    return context_vector, attention_weights"
      ],
      "execution_count": 0,
      "outputs": []
    },
    {
      "cell_type": "code",
      "metadata": {
        "id": "5yWI_fXQVlwN",
        "colab_type": "code",
        "outputId": "3e955bb8-41f1-4668-f712-5f7fc0b0892d",
        "colab": {
          "base_uri": "https://localhost:8080/",
          "height": 51
        }
      },
      "source": [
        "attention_layer = BahdanauAttention(10)\n",
        "attention_result, attention_weights = attention_layer(sample_hidden, sample_output)\n",
        "\n",
        "print(\"Attention result shape: (batch size, units) {}\".format(attention_result.shape))\n",
        "print(\"Attention weights shape: (batch_size, sequence_length, 1) {}\".format(attention_weights.shape))"
      ],
      "execution_count": 0,
      "outputs": [
        {
          "output_type": "stream",
          "text": [
            "Attention result shape: (batch size, units) (64, 1024)\n",
            "Attention weights shape: (batch_size, sequence_length, 1) (64, 22, 1)\n"
          ],
          "name": "stdout"
        }
      ]
    },
    {
      "cell_type": "code",
      "metadata": {
        "id": "6DdY06EgVrqP",
        "colab_type": "code",
        "colab": {}
      },
      "source": [
        "#Define decoder\n",
        "class Decoder(tf.keras.Model):\n",
        "  def __init__(self, vocab_size, embedding_dim, dec_units, batch_sz):\n",
        "    super(Decoder, self).__init__()\n",
        "    self.batch_sz = batch_sz\n",
        "    self.dec_units = dec_units\n",
        "    self.embedding = tf.keras.layers.Embedding(vocab_size, embedding_dim)\n",
        "    self.gru = tf.keras.layers.GRU(self.dec_units,\n",
        "                                   return_sequences=True,\n",
        "                                   return_state=True,\n",
        "                                   recurrent_initializer='glorot_uniform')\n",
        "    self.fc = tf.keras.layers.Dense(vocab_size)\n",
        "\n",
        "    # used for attention\n",
        "    self.attention = BahdanauAttention(self.dec_units)\n",
        "\n",
        "  def call(self, x, hidden, enc_output):\n",
        "    # enc_output shape == (batch_size, max_length, hidden_size)\n",
        "    context_vector, attention_weights = self.attention(hidden, enc_output)\n",
        "\n",
        "    # x shape after passing through embedding == (batch_size, 1, embedding_dim)\n",
        "    x = self.embedding(x)\n",
        "\n",
        "    # x shape after concatenation == (batch_size, 1, embedding_dim + hidden_size)\n",
        "    x = tf.concat([tf.expand_dims(context_vector, 1), x], axis=-1)\n",
        "\n",
        "    # passing the concatenated vector to the GRU\n",
        "    output, state = self.gru(x)\n",
        "\n",
        "    # output shape == (batch_size * 1, hidden_size)\n",
        "    output = tf.reshape(output, (-1, output.shape[2]))\n",
        "\n",
        "    # output shape == (batch_size, vocab)\n",
        "    x = self.fc(output)\n",
        "\n",
        "    return x, state, attention_weights"
      ],
      "execution_count": 0,
      "outputs": []
    },
    {
      "cell_type": "code",
      "metadata": {
        "id": "H5ERHtfmVxEW",
        "colab_type": "code",
        "outputId": "b21d3e4e-b0ba-4868-93e1-15020f101190",
        "colab": {
          "base_uri": "https://localhost:8080/",
          "height": 34
        }
      },
      "source": [
        "decoder = Decoder(vocab_tar_size, embedding_dim, units, BATCH_SIZE)\n",
        "\n",
        "sample_decoder_output, _, _ = decoder(tf.random.uniform((64, 1)),\n",
        "                                      sample_hidden, sample_output)\n",
        "\n",
        "print ('Decoder output shape: (batch_size, vocab size) {}'.format(sample_decoder_output.shape))"
      ],
      "execution_count": 0,
      "outputs": [
        {
          "output_type": "stream",
          "text": [
            "Decoder output shape: (batch_size, vocab size) (64, 6821)\n"
          ],
          "name": "stdout"
        }
      ]
    },
    {
      "cell_type": "code",
      "metadata": {
        "id": "qfT5XWqwV2ez",
        "colab_type": "code",
        "colab": {}
      },
      "source": [
        "#Define the optimizer and the loss function\n",
        "optimizer = tf.keras.optimizers.Adam()\n",
        "loss_object = tf.keras.losses.SparseCategoricalCrossentropy(\n",
        "    from_logits=True, reduction='none')\n",
        "\n",
        "def loss_function(real, pred):\n",
        "  mask = tf.math.logical_not(tf.math.equal(real, 0))\n",
        "  loss_ = loss_object(real, pred)\n",
        "\n",
        "  mask = tf.cast(mask, dtype=loss_.dtype)\n",
        "  loss_ *= mask\n",
        "\n",
        "  return tf.reduce_mean(loss_)"
      ],
      "execution_count": 0,
      "outputs": []
    },
    {
      "cell_type": "code",
      "metadata": {
        "id": "7Io-vcD8V92k",
        "colab_type": "code",
        "colab": {}
      },
      "source": [
        "#Checkpoints (Object-based saving)\n",
        "checkpoint_dir = './training_checkpoints'\n",
        "checkpoint_prefix = os.path.join(checkpoint_dir, \"ckpt\")\n",
        "checkpoint = tf.train.Checkpoint(optimizer=optimizer,\n",
        "                                 encoder=encoder,\n",
        "                                 decoder=decoder)"
      ],
      "execution_count": 0,
      "outputs": []
    },
    {
      "cell_type": "code",
      "metadata": {
        "id": "Mbbx3i1iWHEl",
        "colab_type": "code",
        "colab": {}
      },
      "source": [
        "#Define training steps\n",
        "#1. Pass the input through the encoder. Returns encoder output and encoder hidden state.\n",
        "#2. Pass to decoder: Encoder output, encoder hidden state and decoder input (start token).\n",
        "#3. Decoder returns predictions and decoder hidden state.\n",
        "#4. Decoder hidden state is passed back into the model; predictions are used to calculate loss.\n",
        "#5. Use teacher forcing to decide the next input to the decoder.\n",
        "#    Teacher forcing: Technique where the target word is passed as the next input to the decoder.\n",
        "#6. Final step: Calculate the gradients and apply it to the optimizer and backpropagate.\n",
        "@tf.function\n",
        "def train_step(inp, targ, enc_hidden):\n",
        "  loss = 0\n",
        "\n",
        "  with tf.GradientTape() as tape:\n",
        "    enc_output, enc_hidden = encoder(inp, enc_hidden)\n",
        "\n",
        "    dec_hidden = enc_hidden\n",
        "\n",
        "    dec_input = tf.expand_dims([targ_lang.word_index['<start>']] * BATCH_SIZE, 1)\n",
        "\n",
        "    # Teacher forcing - feeding the target as the next input\n",
        "    for t in range(1, targ.shape[1]):\n",
        "      # passing enc_output to the decoder\n",
        "      predictions, dec_hidden, _ = decoder(dec_input, dec_hidden, enc_output)\n",
        "\n",
        "      loss += loss_function(targ[:, t], predictions)\n",
        "\n",
        "      # using teacher forcing\n",
        "      dec_input = tf.expand_dims(targ[:, t], 1)\n",
        "\n",
        "  batch_loss = (loss / int(targ.shape[1]))\n",
        "\n",
        "  variables = encoder.trainable_variables + decoder.trainable_variables\n",
        "\n",
        "  gradients = tape.gradient(loss, variables)\n",
        "\n",
        "  optimizer.apply_gradients(zip(gradients, variables))\n",
        "\n",
        "  return batch_loss"
      ],
      "execution_count": 0,
      "outputs": []
    },
    {
      "cell_type": "code",
      "metadata": {
        "id": "PilY-ajtYTOs",
        "colab_type": "code",
        "outputId": "b76700cd-2699-49eb-d415-79f1122da2f8",
        "colab": {
          "base_uri": "https://localhost:8080/",
          "height": 1000
        }
      },
      "source": [
        "#Execute training\n",
        "EPOCHS = 15\n",
        "\n",
        "for epoch in range(EPOCHS):\n",
        "  start = time.time()\n",
        "\n",
        "  enc_hidden = encoder.initialize_hidden_state()\n",
        "  total_loss = 0\n",
        "\n",
        "  for (batch, (inp, targ)) in enumerate(dataset.take(steps_per_epoch)):\n",
        "    batch_loss = train_step(inp, targ, enc_hidden)\n",
        "    total_loss += batch_loss\n",
        "\n",
        "    if batch % 100 == 0:\n",
        "        print('Epoch {} Batch {} Loss {:.4f}'.format(epoch + 1,\n",
        "                                                     batch,\n",
        "                                                     batch_loss.numpy()))\n",
        "  # saving (checkpoint) the model every 2 epochs\n",
        "  if (epoch + 1) % 2 == 0:\n",
        "    checkpoint.save(file_prefix = checkpoint_prefix)\n",
        "\n",
        "  print('Epoch {} Loss {:.4f}'.format(epoch + 1,\n",
        "                                      total_loss / steps_per_epoch))\n",
        "  print('Time taken for 1 epoch {} sec\\n'.format(time.time() - start))"
      ],
      "execution_count": 0,
      "outputs": [
        {
          "output_type": "stream",
          "text": [
            "Epoch 1 Batch 0 Loss 4.6440\n",
            "Epoch 1 Batch 100 Loss 2.2668\n",
            "Epoch 1 Batch 200 Loss 1.8954\n",
            "Epoch 1 Batch 300 Loss 1.9263\n",
            "Epoch 1 Batch 400 Loss 1.6391\n",
            "Epoch 1 Batch 500 Loss 1.5843\n",
            "Epoch 1 Batch 600 Loss 1.5569\n",
            "Epoch 1 Batch 700 Loss 1.4727\n",
            "Epoch 1 Loss 1.7715\n",
            "Time taken for 1 epoch 129.7197711467743 sec\n",
            "\n",
            "Epoch 2 Batch 0 Loss 1.3412\n",
            "Epoch 2 Batch 100 Loss 1.3865\n",
            "Epoch 2 Batch 200 Loss 1.0574\n",
            "Epoch 2 Batch 300 Loss 1.2304\n",
            "Epoch 2 Batch 400 Loss 1.0397\n",
            "Epoch 2 Batch 500 Loss 0.9678\n",
            "Epoch 2 Batch 600 Loss 1.0216\n",
            "Epoch 2 Batch 700 Loss 0.8918\n",
            "Epoch 2 Loss 1.0253\n",
            "Time taken for 1 epoch 103.01406073570251 sec\n",
            "\n",
            "Epoch 3 Batch 0 Loss 0.8379\n",
            "Epoch 3 Batch 100 Loss 0.8698\n",
            "Epoch 3 Batch 200 Loss 0.6390\n",
            "Epoch 3 Batch 300 Loss 0.8008\n",
            "Epoch 3 Batch 400 Loss 0.6181\n",
            "Epoch 3 Batch 500 Loss 0.6016\n",
            "Epoch 3 Batch 600 Loss 0.6544\n",
            "Epoch 3 Batch 700 Loss 0.5534\n",
            "Epoch 3 Loss 0.6149\n",
            "Time taken for 1 epoch 102.20961785316467 sec\n",
            "\n",
            "Epoch 4 Batch 0 Loss 0.5317\n",
            "Epoch 4 Batch 100 Loss 0.5519\n",
            "Epoch 4 Batch 200 Loss 0.3966\n",
            "Epoch 4 Batch 300 Loss 0.5052\n",
            "Epoch 4 Batch 400 Loss 0.3883\n",
            "Epoch 4 Batch 500 Loss 0.3742\n",
            "Epoch 4 Batch 600 Loss 0.3832\n",
            "Epoch 4 Batch 700 Loss 0.3632\n",
            "Epoch 4 Loss 0.3827\n",
            "Time taken for 1 epoch 102.91058802604675 sec\n",
            "\n",
            "Epoch 5 Batch 0 Loss 0.3415\n",
            "Epoch 5 Batch 100 Loss 0.3268\n",
            "Epoch 5 Batch 200 Loss 0.2797\n",
            "Epoch 5 Batch 300 Loss 0.3330\n",
            "Epoch 5 Batch 400 Loss 0.2638\n",
            "Epoch 5 Batch 500 Loss 0.2430\n",
            "Epoch 5 Batch 600 Loss 0.2713\n",
            "Epoch 5 Batch 700 Loss 0.2622\n",
            "Epoch 5 Loss 0.2512\n",
            "Time taken for 1 epoch 102.20519137382507 sec\n",
            "\n",
            "Epoch 6 Batch 0 Loss 0.2228\n",
            "Epoch 6 Batch 100 Loss 0.2183\n",
            "Epoch 6 Batch 200 Loss 0.2011\n",
            "Epoch 6 Batch 300 Loss 0.2554\n",
            "Epoch 6 Batch 400 Loss 0.1919\n",
            "Epoch 6 Batch 500 Loss 0.1730\n",
            "Epoch 6 Batch 600 Loss 0.1967\n",
            "Epoch 6 Batch 700 Loss 0.1904\n",
            "Epoch 6 Loss 0.1764\n",
            "Time taken for 1 epoch 102.91062998771667 sec\n",
            "\n",
            "Epoch 7 Batch 0 Loss 0.1511\n",
            "Epoch 7 Batch 100 Loss 0.1334\n",
            "Epoch 7 Batch 200 Loss 0.1419\n",
            "Epoch 7 Batch 300 Loss 0.1677\n",
            "Epoch 7 Batch 400 Loss 0.1359\n",
            "Epoch 7 Batch 500 Loss 0.1252\n",
            "Epoch 7 Batch 600 Loss 0.1442\n",
            "Epoch 7 Batch 700 Loss 0.1491\n",
            "Epoch 7 Loss 0.1303\n",
            "Time taken for 1 epoch 102.22421932220459 sec\n",
            "\n",
            "Epoch 8 Batch 0 Loss 0.1068\n",
            "Epoch 8 Batch 100 Loss 0.1019\n",
            "Epoch 8 Batch 200 Loss 0.1018\n",
            "Epoch 8 Batch 300 Loss 0.1541\n",
            "Epoch 8 Batch 400 Loss 0.1176\n",
            "Epoch 8 Batch 500 Loss 0.0812\n",
            "Epoch 8 Batch 600 Loss 0.1302\n",
            "Epoch 8 Batch 700 Loss 0.0900\n",
            "Epoch 8 Loss 0.0998\n",
            "Time taken for 1 epoch 102.95914673805237 sec\n",
            "\n",
            "Epoch 9 Batch 0 Loss 0.0887\n",
            "Epoch 9 Batch 100 Loss 0.0788\n",
            "Epoch 9 Batch 200 Loss 0.0976\n",
            "Epoch 9 Batch 300 Loss 0.1002\n",
            "Epoch 9 Batch 400 Loss 0.0865\n",
            "Epoch 9 Batch 500 Loss 0.0569\n",
            "Epoch 9 Batch 600 Loss 0.0965\n",
            "Epoch 9 Batch 700 Loss 0.0751\n",
            "Epoch 9 Loss 0.0774\n",
            "Time taken for 1 epoch 102.27381181716919 sec\n",
            "\n",
            "Epoch 10 Batch 0 Loss 0.0611\n",
            "Epoch 10 Batch 100 Loss 0.0523\n",
            "Epoch 10 Batch 200 Loss 0.0956\n",
            "Epoch 10 Batch 300 Loss 0.0657\n",
            "Epoch 10 Batch 400 Loss 0.0708\n",
            "Epoch 10 Batch 500 Loss 0.0620\n",
            "Epoch 10 Batch 600 Loss 0.0870\n",
            "Epoch 10 Batch 700 Loss 0.0690\n",
            "Epoch 10 Loss 0.0620\n",
            "Time taken for 1 epoch 102.88900446891785 sec\n",
            "\n",
            "Epoch 11 Batch 0 Loss 0.0571\n",
            "Epoch 11 Batch 100 Loss 0.0722\n",
            "Epoch 11 Batch 200 Loss 0.0633\n",
            "Epoch 11 Batch 300 Loss 0.0487\n",
            "Epoch 11 Batch 400 Loss 0.0544\n",
            "Epoch 11 Batch 500 Loss 0.0526\n",
            "Epoch 11 Batch 600 Loss 0.0635\n",
            "Epoch 11 Batch 700 Loss 0.0530\n",
            "Epoch 11 Loss 0.0533\n",
            "Time taken for 1 epoch 102.19192671775818 sec\n",
            "\n",
            "Epoch 12 Batch 0 Loss 0.0536\n",
            "Epoch 12 Batch 100 Loss 0.0421\n",
            "Epoch 12 Batch 200 Loss 0.0393\n",
            "Epoch 12 Batch 300 Loss 0.0471\n",
            "Epoch 12 Batch 400 Loss 0.0584\n",
            "Epoch 12 Batch 500 Loss 0.0284\n",
            "Epoch 12 Batch 600 Loss 0.0402\n",
            "Epoch 12 Batch 700 Loss 0.0383\n",
            "Epoch 12 Loss 0.0466\n",
            "Time taken for 1 epoch 102.90328097343445 sec\n",
            "\n",
            "Epoch 13 Batch 0 Loss 0.0424\n",
            "Epoch 13 Batch 100 Loss 0.0328\n",
            "Epoch 13 Batch 200 Loss 0.0478\n",
            "Epoch 13 Batch 300 Loss 0.0461\n",
            "Epoch 13 Batch 400 Loss 0.0430\n",
            "Epoch 13 Batch 500 Loss 0.0331\n",
            "Epoch 13 Batch 600 Loss 0.0609\n",
            "Epoch 13 Batch 700 Loss 0.0388\n",
            "Epoch 13 Loss 0.0421\n",
            "Time taken for 1 epoch 102.15438079833984 sec\n",
            "\n",
            "Epoch 14 Batch 0 Loss 0.0373\n",
            "Epoch 14 Batch 100 Loss 0.0338\n",
            "Epoch 14 Batch 200 Loss 0.0312\n",
            "Epoch 14 Batch 300 Loss 0.0438\n",
            "Epoch 14 Batch 400 Loss 0.0547\n",
            "Epoch 14 Batch 500 Loss 0.0313\n",
            "Epoch 14 Batch 600 Loss 0.0378\n",
            "Epoch 14 Batch 700 Loss 0.0287\n",
            "Epoch 14 Loss 0.0388\n",
            "Time taken for 1 epoch 102.7107846736908 sec\n",
            "\n",
            "Epoch 15 Batch 0 Loss 0.0266\n",
            "Epoch 15 Batch 100 Loss 0.0398\n",
            "Epoch 15 Batch 200 Loss 0.0250\n",
            "Epoch 15 Batch 300 Loss 0.0341\n",
            "Epoch 15 Batch 400 Loss 0.0421\n",
            "Epoch 15 Batch 500 Loss 0.0241\n",
            "Epoch 15 Batch 600 Loss 0.0429\n",
            "Epoch 15 Batch 700 Loss 0.0239\n",
            "Epoch 15 Loss 0.0349\n",
            "Time taken for 1 epoch 102.089191198349 sec\n",
            "\n"
          ],
          "name": "stdout"
        }
      ]
    },
    {
      "cell_type": "code",
      "metadata": {
        "id": "EJRofq3wZ9_s",
        "colab_type": "code",
        "colab": {}
      },
      "source": [
        "#Define evalation (similar to the training loop, except no teacher forcing)\n",
        "#1. Decoder input (at each time step): Previous predictions along with hidden state and encoder output.\n",
        "#2. Stop predicting when the model predicts the end token.\n",
        "#3. Store the attention weights for every time step.\n",
        "#Note: The encoder output is calculated only once for one input.\n",
        "def evaluate(sentence):\n",
        "    attention_plot = np.zeros((max_length_targ, max_length_inp))\n",
        "\n",
        "    sentence = preprocess_sentence(sentence)\n",
        "\n",
        "    inputs = [inp_lang.word_index[i] for i in sentence.split(' ')]\n",
        "    inputs = tf.keras.preprocessing.sequence.pad_sequences([inputs],\n",
        "                                                           maxlen=max_length_inp,\n",
        "                                                           padding='post')\n",
        "    inputs = tf.convert_to_tensor(inputs)\n",
        "\n",
        "    result = ''\n",
        "\n",
        "    hidden = [tf.zeros((1, units))]\n",
        "    enc_out, enc_hidden = encoder(inputs, hidden)\n",
        "\n",
        "    dec_hidden = enc_hidden\n",
        "    dec_input = tf.expand_dims([targ_lang.word_index['<start>']], 0)\n",
        "\n",
        "    for t in range(max_length_targ):\n",
        "        predictions, dec_hidden, attention_weights = decoder(dec_input,\n",
        "                                                             dec_hidden,\n",
        "                                                             enc_out)\n",
        "\n",
        "        # storing the attention weights to plot later on\n",
        "        attention_weights = tf.reshape(attention_weights, (-1, ))\n",
        "        attention_plot[t] = attention_weights.numpy()\n",
        "\n",
        "        predicted_id = tf.argmax(predictions[0]).numpy()\n",
        "\n",
        "        result += targ_lang.index_word[predicted_id] + ' '\n",
        "\n",
        "        if targ_lang.index_word[predicted_id] == '<end>':\n",
        "            return result, sentence, attention_plot\n",
        "\n",
        "        # the predicted ID is fed back into the model\n",
        "        dec_input = tf.expand_dims([predicted_id], 0)\n",
        "\n",
        "    return result, sentence, attention_plot"
      ],
      "execution_count": 0,
      "outputs": []
    },
    {
      "cell_type": "code",
      "metadata": {
        "id": "LEiAfxTgaxaj",
        "colab_type": "code",
        "colab": {}
      },
      "source": [
        "#Define function for plotting the attention weights\n",
        "def plot_attention(attention, sentence, predicted_sentence):\n",
        "    fig = plt.figure(figsize=(10,10))\n",
        "    ax = fig.add_subplot(1, 1, 1)\n",
        "    ax.matshow(attention, cmap='viridis')\n",
        "\n",
        "    fontdict = {'fontsize': 14}\n",
        "\n",
        "    ax.set_xticklabels([''] + sentence, fontdict=fontdict, rotation=90)\n",
        "    ax.set_yticklabels([''] + predicted_sentence, fontdict=fontdict)\n",
        "\n",
        "    ax.xaxis.set_major_locator(ticker.MultipleLocator(1))\n",
        "    ax.yaxis.set_major_locator(ticker.MultipleLocator(1))\n",
        "\n",
        "    plt.show()"
      ],
      "execution_count": 0,
      "outputs": []
    },
    {
      "cell_type": "code",
      "metadata": {
        "id": "3OO-CU-Ha_iX",
        "colab_type": "code",
        "colab": {}
      },
      "source": [
        "#Define translation function\n",
        "def translate(sentence):\n",
        "    result, sentence, attention_plot = evaluate(sentence)\n",
        "\n",
        "    print('Input: %s' % (sentence))\n",
        "    print('Predicted translation: {}'.format(result))\n",
        "\n",
        "    attention_plot = attention_plot[:len(result.split(' ')), :len(sentence.split(' '))]\n",
        "    plot_attention(attention_plot, sentence.split(' '), result.split(' '))"
      ],
      "execution_count": 0,
      "outputs": []
    },
    {
      "cell_type": "code",
      "metadata": {
        "id": "gG-rGHnlbJPa",
        "colab_type": "code",
        "outputId": "7f266754-e22f-44b6-ca32-c4bb9b05a317",
        "colab": {
          "base_uri": "https://localhost:8080/",
          "height": 34
        }
      },
      "source": [
        "#Restoring the latest checkpoint in checkpoint_dir\n",
        "checkpoint.restore(tf.train.latest_checkpoint(checkpoint_dir))"
      ],
      "execution_count": 0,
      "outputs": [
        {
          "output_type": "execute_result",
          "data": {
            "text/plain": [
              "<tensorflow.python.training.tracking.util.CheckpointLoadStatus at 0x7f3ac7034518>"
            ]
          },
          "metadata": {
            "tags": []
          },
          "execution_count": 61
        }
      ]
    },
    {
      "cell_type": "code",
      "metadata": {
        "id": "8mPqu-s9bPt1",
        "colab_type": "code",
        "outputId": "a9c88ef5-7ee1-4cb6-aa0f-186c76bc57cc",
        "colab": {
          "base_uri": "https://localhost:8080/",
          "height": 675
        }
      },
      "source": [
        "translate(u'Wieviel Uhr ist es?')"
      ],
      "execution_count": 0,
      "outputs": [
        {
          "output_type": "stream",
          "text": [
            "Input: <start> wieviel uhr ist es ? <end>\n",
            "Predicted translation: what time is it ? <end> \n"
          ],
          "name": "stdout"
        },
        {
          "output_type": "display_data",
          "data": {
            "image/png": "[encoded data removed]",
            "text/plain": [
              "<Figure size 720x720 with 1 Axes>"
            ]
          },
          "metadata": {
            "tags": []
          }
        }
      ]
    },
    {
      "cell_type": "code",
      "metadata": {
        "id": "KSsGE9CEb3qD",
        "colab_type": "code",
        "outputId": "a2c1f9d0-453a-47c9-827b-dc969fceef98",
        "colab": {
          "base_uri": "https://localhost:8080/",
          "height": 639
        }
      },
      "source": [
        "translate(u'Eine lange Reise hört nicht am Ziel auf.')"
      ],
      "execution_count": 0,
      "outputs": [
        {
          "output_type": "stream",
          "text": [
            "Input: <start> eine lange reise hort nicht am ziel auf . <end>\n",
            "Predicted translation: it s all start at all night . <end> \n"
          ],
          "name": "stdout"
        },
        {
          "output_type": "display_data",
          "data": {
            "image/png": "[encoded data removed]",
            "text/plain": [
              "<Figure size 720x720 with 1 Axes>"
            ]
          },
          "metadata": {
            "tags": []
          }
        }
      ]
    },
    {
      "cell_type": "code",
      "metadata": {
        "id": "8MzYDkVKceTv",
        "colab_type": "code",
        "outputId": "ddf1869d-c957-4881-d2a1-bbc9e031e9dc",
        "colab": {
          "base_uri": "https://localhost:8080/",
          "height": 329
        }
      },
      "source": [
        "translate(u'Einmal im Jahr solltest du einen Ort besuchen, an dem du noch nie warst.')"
      ],
      "execution_count": 0,
      "outputs": [
        {
          "output_type": "stream",
          "text": [
            "Input: <start> einmal im jahr solltest du einen ort besuchen , an dem du noch nie warst . <end>\n",
            "Predicted translation: enjoy your year . <end> \n"
          ],
          "name": "stdout"
        },
        {
          "output_type": "display_data",
          "data": {
            "image/png": "[encoded data removed]",
            "text/plain": [
              "<Figure size 720x720 with 1 Axes>"
            ]
          },
          "metadata": {
            "tags": []
          }
        }
      ]
    }
  ]
}